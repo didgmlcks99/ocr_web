{
 "cells": [
  {
   "cell_type": "code",
   "execution_count": 1,
   "metadata": {},
   "outputs": [],
   "source": [
    "import model_util as mu\n",
    "import predictor"
   ]
  },
  {
   "cell_type": "code",
   "execution_count": 2,
   "metadata": {},
   "outputs": [],
   "source": [
    "model = mu.getModel('test10')"
   ]
  },
  {
   "cell_type": "code",
   "execution_count": 4,
   "metadata": {},
   "outputs": [
    {
     "name": "stdout",
     "output_type": "stream",
     "text": [
      "successfully got ch2idx!\n",
      "0.07% that next line must be omitted.\n"
     ]
    }
   ],
   "source": [
    "first = 'SK㈜와 SK이노베이션은 15일 “테라파워에 2억5000만달러(3270억원)를 투자하기로 했다”고 밝혔다'\n",
    "second = 'SK그룹은 지난해 6월 확대경영회의 이후 SMR 분야 투자를 검토하기 시작, 지난 5월 테라파워와 포괄적 사업협력을 위한 양해각서(MOU)를 체결했다'\n",
    "\n",
    "predictor.predict(first, second, model)"
   ]
  },
  {
   "cell_type": "code",
   "execution_count": 5,
   "metadata": {},
   "outputs": [
    {
     "name": "stdout",
     "output_type": "stream",
     "text": [
      "successfully got ch2idx!\n",
      "100.00% that next line must be omitted.\n"
     ]
    }
   ],
   "source": [
    "first = 'SK㈜와 SK이노베이션은 15일 “테라파워에 2억5000만달러(3270억원)를 투자하기로 했다”고 밝혔다 SK그룹은 지난해 6월 확대경영회의'\n",
    "second = '이후 SMR 분야 투자를 검토하기 시작, 지난 5월 테라파워와 포괄적 사업협력을 위한 양해각서(MOU)를 체결했다'\n",
    "\n",
    "predictor.predict(first, second, model)"
   ]
  },
  {
   "cell_type": "code",
   "execution_count": null,
   "metadata": {},
   "outputs": [],
   "source": []
  }
 ],
 "metadata": {
  "kernelspec": {
   "display_name": "Python 3.9.9 64-bit",
   "language": "python",
   "name": "python3"
  },
  "language_info": {
   "codemirror_mode": {
    "name": "ipython",
    "version": 3
   },
   "file_extension": ".py",
   "mimetype": "text/x-python",
   "name": "python",
   "nbconvert_exporter": "python",
   "pygments_lexer": "ipython3",
   "version": "3.9.9"
  },
  "orig_nbformat": 4,
  "vscode": {
   "interpreter": {
    "hash": "397704579725e15f5c7cb49fe5f0341eb7531c82d19f2c29d197e8b64ab5776b"
   }
  }
 },
 "nbformat": 4,
 "nbformat_minor": 2
}
